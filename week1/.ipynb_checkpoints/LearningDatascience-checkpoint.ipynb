{
 "cells": [
  {
   "cell_type": "code",
   "execution_count": 1,
   "id": "ee107294-aa27-45e6-bcb6-87fee0a2aec5",
   "metadata": {},
   "outputs": [
    {
     "name": "stdout",
     "output_type": "stream",
     "text": [
      "[{'name': 'Bob', 'age': 20}, {'name': 'Alice', 'age': 30}]\n"
     ]
    }
   ],
   "source": [
    "people = [{'name': 'Alice', 'age': 30}, {'name': 'Bob', 'age': 20}]\n",
    "sorted_people = sorted(people, key=lambda x: x['age'])\n",
    "print(sorted_people)"
   ]
  },
  {
   "cell_type": "code",
   "execution_count": null,
   "id": "07c60f96-0e39-4213-b071-fe44792bbcfd",
   "metadata": {},
   "outputs": [],
   "source": [
    "🔁 Lambda with map(), filter(), sorted()"
   ]
  },
  {
   "cell_type": "code",
   "execution_count": 5,
   "id": "62a561c5-6cae-4035-bd8c-b985a7a0a30d",
   "metadata": {},
   "outputs": [
    {
     "name": "stdout",
     "output_type": "stream",
     "text": [
      "[1, 4, 16, 36]\n"
     ]
    }
   ],
   "source": [
    "nums = [1,2,4,6]\n",
    "square= list(map(lambda x:x**2,nums))\n",
    "print(square)"
   ]
  },
  {
   "cell_type": "code",
   "execution_count": 7,
   "id": "bd360db1-cc4a-40fa-ad21-00c26e619523",
   "metadata": {},
   "outputs": [
    {
     "name": "stdout",
     "output_type": "stream",
     "text": [
      "[2, 4, 6]\n",
      "[{'name': 'Bob', 'age': 20}, {'name': 'Alice', 'age': 30}]\n"
     ]
    }
   ],
   "source": [
    "even_nums = list(filter(lambda x: x % 2 == 0, nums))\n",
    "print(even_nums)  # [2, 4]\n",
    "\n",
    "# sorted() with lambda\n",
    "people = [{'name': 'Alice', 'age': 30}, {'name': 'Bob', 'age': 20}]\n",
    "sorted_people = sorted(people, key=lambda x: x['age'])\n",
    "print(sorted_people)"
   ]
  },
  {
   "cell_type": "code",
   "execution_count": null,
   "id": "d3642702-47fc-4d29-bc4a-4528ddfe0e8a",
   "metadata": {},
   "outputs": [],
   "source": [
    "📚 List Comprehensions in Python"
   ]
  },
  {
   "cell_type": "markdown",
   "id": "24a0bfdb-0248-47aa-b492-283fa9acead3",
   "metadata": {},
   "source": [
    "| Task                    | List Comprehension Example               |\n",
    "| ----------------------- | ---------------------------------------- |\n",
    "| Squares                 | `[x**2 for x in range(10)]`              |\n",
    "| Filter strings          | `[s for s in names if len(s) > 3]`       |\n",
    "| Flatten list of lists   | `[num for sub in nested for num in sub]` |\n",
    "| Convert to uppercase    | `[char.upper() for char in \"hello\"]`     |\n",
    "| Remove duplicates (set) | `list(set([1, 2, 2, 3]))`                |\n"
   ]
  },
  {
   "cell_type": "code",
   "execution_count": 8,
   "id": "c32e5c6f-f6a8-48e7-932c-44dd9f188d79",
   "metadata": {},
   "outputs": [
    {
     "name": "stdout",
     "output_type": "stream",
     "text": [
      "[0, 1, 4, 9, 16]\n"
     ]
    }
   ],
   "source": [
    "square = [x**2 for x in range(5)]\n",
    "print(square)"
   ]
  },
  {
   "cell_type": "code",
   "execution_count": 28,
   "id": "360b9859-570b-46e0-89f2-73013bf43e2a",
   "metadata": {},
   "outputs": [
    {
     "name": "stdout",
     "output_type": "stream",
     "text": [
      "[[1 2 3]\n",
      " [4 5 6]]\n",
      "(2, 4, 3)\n",
      "3\n"
     ]
    },
    {
     "data": {
      "text/plain": [
       "8"
      ]
     },
     "execution_count": 28,
     "metadata": {},
     "output_type": "execute_result"
    }
   ],
   "source": [
    "import numpy as np\n",
    "\n",
    "arrayNum= np.array([[1,2,3],[4,5,6]]) #2d\n",
    "arrayNum1= np.array([\n",
    "    [[1,2,3],[4,5,6],[7,8,9],[10,11,12]],\n",
    "    [[1,2,3],[4,5,6],[7,8,9],[10,11,12]],\n",
    "]) #3d\n",
    "print(arrayNum)\n",
    "print(arrayNum1.shape)  # Dimensions (rows, cols)    \n",
    "print(arrayNum1.ndim)      # Number of dimensions\n",
    "arr.dtype      # Data type of elements\n",
    "arr.size       # Total number of elements\n",
    "arr.itemsize   # Size (in bytes) of each item\n"
   ]
  },
  {
   "cell_type": "code",
   "execution_count": null,
   "id": "e4b14eea-9cae-464e-b134-898ddc720554",
   "metadata": {},
   "outputs": [],
   "source": [
    "🧮 NumPy Basics: Arrays, Indexing, Broadcasting & More"
   ]
  },
  {
   "cell_type": "code",
   "execution_count": null,
   "id": "cb5fbd5f-e545-4a63-9af1-6b88be9306be",
   "metadata": {
    "jupyter": {
     "source_hidden": true
    }
   },
   "outputs": [],
   "source": [
    "Creating Arrays"
   ]
  },
  {
   "cell_type": "code",
   "execution_count": 20,
   "id": "22a8b634-0a07-47ba-8361-910621bb9147",
   "metadata": {},
   "outputs": [
    {
     "name": "stdout",
     "output_type": "stream",
     "text": [
      "[[0. 0. 0.]\n",
      " [0. 0. 0.]]\n",
      "[[1. 1.]\n",
      " [1. 1.]\n",
      " [1. 1.]]\n"
     ]
    }
   ],
   "source": [
    "# Arrays filled with zeros or ones\n",
    "zeros = np.zeros((2, 3))\n",
    "ones = np.ones((3, 2))\n",
    "\n",
    "print(zeros)\n",
    "print(ones)"
   ]
  },
  {
   "cell_type": "code",
   "execution_count": 23,
   "id": "ff540ee8-c49d-46d4-88d9-3ebe014345a8",
   "metadata": {},
   "outputs": [
    {
     "name": "stdout",
     "output_type": "stream",
     "text": [
      "[[1. 0. 0. 0.]\n",
      " [0. 1. 0. 0.]\n",
      " [0. 0. 1. 0.]\n",
      " [0. 0. 0. 1.]]\n"
     ]
    }
   ],
   "source": [
    "\n",
    "# Array with a range\n",
    "arr = np.arange(0, 10, 2)  # [0, 2, 4, 6, 8]\n",
    "\n",
    "# Linearly spaced array\n",
    "lin = np.linspace(0, 1, 5)  # [0. , 0.25, 0.5 , 0.75, 1. ]\n",
    "\n",
    "# Identity matrix\n",
    "eye = np.eye(4)\n",
    "print(eye)"
   ]
  },
  {
   "cell_type": "code",
   "execution_count": null,
   "id": "924c22e3-2e42-4b4d-b3f6-5f46bbdbe4d7",
   "metadata": {
    "jupyter": {
     "source_hidden": true
    }
   },
   "outputs": [],
   "source": [
    "Indexing & Slicing"
   ]
  },
  {
   "cell_type": "code",
   "execution_count": null,
   "id": "af0f367c-c56f-4587-9943-a6b771461bca",
   "metadata": {},
   "outputs": [],
   "source": [
    "a = np.array([10, 20, 30, 40, 50])\n",
    "\n",
    "# Indexing\n",
    "print(a[0])        # 10\n",
    "\n",
    "# Slicing\n",
    "print(a[1:4])      # [20, 30, 40]\n",
    "\n",
    "# 2D array indexing\n",
    "b = np.array([[1, 2, 3], [4, 5, 6]])\n",
    "print(b[0, 2])     # 3\n",
    "print(b[:, 1])     # [2, 5]\n"
   ]
  },
  {
   "cell_type": "code",
   "execution_count": null,
   "id": "4191e660-d54c-4947-8646-95998d4b2009",
   "metadata": {
    "jupyter": {
     "source_hidden": true
    }
   },
   "outputs": [],
   "source": [
    " Array Operations"
   ]
  },
  {
   "cell_type": "code",
   "execution_count": null,
   "id": "bee3711a-06a5-463b-88be-41941f6657f1",
   "metadata": {},
   "outputs": [],
   "source": [
    "a = np.array([1, 2, 3])\n",
    "b = np.array([4, 5, 6])\n",
    "\n",
    "# Element-wise operations\n",
    "print(a + b)       # [5 7 9]\n",
    "print(a * b)       # [4 10 18]\n",
    "\n",
    "# Scalar operations\n",
    "print(a * 2)       # [2 4 6]\n",
    "\n",
    "# Universal Functions (ufuncs)\n",
    "np.sqrt(a)\n",
    "np.sin(a)\n",
    "np.log(a)\n"
   ]
  },
  {
   "cell_type": "code",
   "execution_count": null,
   "id": "ace2ca82-7cea-4eb7-9a23-2a00931ae2cd",
   "metadata": {},
   "outputs": [],
   "source": [
    "Broadcasting"
   ]
  },
  {
   "cell_type": "code",
   "execution_count": null,
   "id": "7e756732-f071-49b3-a402-fa1dbd709dd6",
   "metadata": {
    "jupyter": {
     "source_hidden": true
    }
   },
   "outputs": [],
   "source": [
    "Reshape and Flatten"
   ]
  },
  {
   "cell_type": "code",
   "execution_count": null,
   "id": "95b1f65b-6afd-488f-a4fa-ec0f5d1d0307",
   "metadata": {},
   "outputs": [],
   "source": [
    "a = np.arange(6)         # [0 1 2 3 4 5]\n",
    "b = a.reshape(2, 3)      # 2 rows, 3 columns\n",
    "\n",
    "c = b.flatten()          # Back to 1D\n"
   ]
  },
  {
   "cell_type": "code",
   "execution_count": null,
   "id": "08ace5ae-21ae-4dfc-be69-92da707343ed",
   "metadata": {
    "jupyter": {
     "source_hidden": true
    }
   },
   "outputs": [],
   "source": [
    "🧼 8. Useful Functions"
   ]
  },
  {
   "cell_type": "code",
   "execution_count": null,
   "id": "25cafa32-1142-4e54-b325-6a36e070f726",
   "metadata": {},
   "outputs": [],
   "source": [
    "np.sum(arr)           # Sum of elements\n",
    "np.mean(arr)          # Average\n",
    "np.std(arr)           # Standard deviation\n",
    "np.max(arr), np.min(arr)\n",
    "np.argmax(arr)        # Index of max value\n",
    "np.cumsum(arr)        # Cumulative sum"
   ]
  },
  {
   "cell_type": "code",
   "execution_count": null,
   "id": "9ec8179f-9f36-47ab-99d5-3fc2f67ecfd7",
   "metadata": {
    "jupyter": {
     "source_hidden": true
    }
   },
   "outputs": [],
   "source": [
    " Boolean Indexing & Filtering"
   ]
  },
  {
   "cell_type": "code",
   "execution_count": null,
   "id": "040d17a6-6710-41d4-b74c-0b5d76c7bb80",
   "metadata": {},
   "outputs": [],
   "source": [
    "a = np.array([1, 2, 3, 4, 5])\n",
    "print(a[a > 3])     # [4 5]\n"
   ]
  },
  {
   "cell_type": "markdown",
   "id": "265b6c0e-7459-4d2a-99aa-0954016768f4",
   "metadata": {},
   "source": [
    "| Feature      | Function / Syntax                |\n",
    "| ------------ | -------------------------------- |\n",
    "| Create array | `np.array()`, `np.zeros()`, etc. |\n",
    "| Index/slice  | `a[1:3]`, `a[0, 2]`              |\n",
    "| Operations   | `+`, `-`, `*`, `/`, `np.sqrt()`  |\n",
    "| Reshape      | `a.reshape()`, `a.flatten()`     |\n",
    "| Broadcasting | Auto shape-matching              |\n",
    "| Statistics   | `np.mean()`, `np.sum()`, etc.    |\n",
    "| Filtering    | `a[a > 0]`                       |\n"
   ]
  },
  {
   "cell_type": "code",
   "execution_count": null,
   "id": "e14d2b5c-eab5-40d3-8e7c-98903c74086b",
   "metadata": {},
   "outputs": [],
   "source": []
  }
 ],
 "metadata": {
  "kernelspec": {
   "display_name": "Python 3 (ipykernel)",
   "language": "python",
   "name": "python3"
  },
  "language_info": {
   "codemirror_mode": {
    "name": "ipython",
    "version": 3
   },
   "file_extension": ".py",
   "mimetype": "text/x-python",
   "name": "python",
   "nbconvert_exporter": "python",
   "pygments_lexer": "ipython3",
   "version": "3.13.5"
  }
 },
 "nbformat": 4,
 "nbformat_minor": 5
}
